{
 "cells": [
  {
   "cell_type": "code",
   "execution_count": 118,
   "id": "bbe0a772-e647-44a4-b6bb-48220165734d",
   "metadata": {},
   "outputs": [],
   "source": [
    "import pandas as pd\n",
    "import numpy as np\n",
    "import datetime as dt\n",
    "import panel as pn\n",
    "pn.extension('tabulator')\n",
    "pn.extension(sizing_mode=\"stretch_width\")\n",
    "\n",
    "import hvplot.pandas"
   ]
  },
  {
   "cell_type": "code",
   "execution_count": 119,
   "id": "b2215f24-4ba5-4c1e-ab57-e94e389a7b1c",
   "metadata": {},
   "outputs": [],
   "source": [
    "df = pd.read_csv('https://raw.githubusercontent.com/bradleyhrc/glucose-data/main/BHC-Glucose-Data-Clean.csv')"
   ]
  },
  {
   "cell_type": "code",
   "execution_count": 120,
   "id": "1516c11b-dd6a-40ec-9a27-6731c4c17e32",
   "metadata": {},
   "outputs": [
    {
     "data": {
      "text/html": [
       "<div>\n",
       "<style scoped>\n",
       "    .dataframe tbody tr th:only-of-type {\n",
       "        vertical-align: middle;\n",
       "    }\n",
       "\n",
       "    .dataframe tbody tr th {\n",
       "        vertical-align: top;\n",
       "    }\n",
       "\n",
       "    .dataframe thead th {\n",
       "        text-align: right;\n",
       "    }\n",
       "</style>\n",
       "<table border=\"1\" class=\"dataframe\">\n",
       "  <thead>\n",
       "    <tr style=\"text-align: right;\">\n",
       "      <th></th>\n",
       "      <th>Device</th>\n",
       "      <th>Device_Timestamp</th>\n",
       "      <th>Type</th>\n",
       "      <th>Glucose_mmol/L</th>\n",
       "      <th>Date</th>\n",
       "      <th>Time</th>\n",
       "    </tr>\n",
       "  </thead>\n",
       "  <tbody>\n",
       "    <tr>\n",
       "      <th>0</th>\n",
       "      <td>FreeStyle LibreLink</td>\n",
       "      <td>20-08-2020 11:32</td>\n",
       "      <td>0</td>\n",
       "      <td>2.7</td>\n",
       "      <td>20-08-2020</td>\n",
       "      <td>11:32</td>\n",
       "    </tr>\n",
       "    <tr>\n",
       "      <th>1</th>\n",
       "      <td>FreeStyle LibreLink</td>\n",
       "      <td>20-08-2020 11:47</td>\n",
       "      <td>0</td>\n",
       "      <td>3.0</td>\n",
       "      <td>20-08-2020</td>\n",
       "      <td>11:47</td>\n",
       "    </tr>\n",
       "    <tr>\n",
       "      <th>2</th>\n",
       "      <td>FreeStyle LibreLink</td>\n",
       "      <td>20-08-2020 12:02</td>\n",
       "      <td>0</td>\n",
       "      <td>3.1</td>\n",
       "      <td>20-08-2020</td>\n",
       "      <td>12:02</td>\n",
       "    </tr>\n",
       "    <tr>\n",
       "      <th>3</th>\n",
       "      <td>FreeStyle LibreLink</td>\n",
       "      <td>20-08-2020 12:17</td>\n",
       "      <td>0</td>\n",
       "      <td>2.7</td>\n",
       "      <td>20-08-2020</td>\n",
       "      <td>12:17</td>\n",
       "    </tr>\n",
       "    <tr>\n",
       "      <th>4</th>\n",
       "      <td>FreeStyle LibreLink</td>\n",
       "      <td>20-08-2020 12:32</td>\n",
       "      <td>0</td>\n",
       "      <td>2.9</td>\n",
       "      <td>20-08-2020</td>\n",
       "      <td>12:32</td>\n",
       "    </tr>\n",
       "    <tr>\n",
       "      <th>...</th>\n",
       "      <td>...</td>\n",
       "      <td>...</td>\n",
       "      <td>...</td>\n",
       "      <td>...</td>\n",
       "      <td>...</td>\n",
       "      <td>...</td>\n",
       "    </tr>\n",
       "    <tr>\n",
       "      <th>24737</th>\n",
       "      <td>FreeStyle LibreLink</td>\n",
       "      <td>27-06-2020 21:33</td>\n",
       "      <td>1</td>\n",
       "      <td>4.6</td>\n",
       "      <td>27-06-2020</td>\n",
       "      <td>21:33</td>\n",
       "    </tr>\n",
       "    <tr>\n",
       "      <th>24738</th>\n",
       "      <td>FreeStyle LibreLink</td>\n",
       "      <td>28-06-2020 12:15</td>\n",
       "      <td>1</td>\n",
       "      <td>10.2</td>\n",
       "      <td>28-06-2020</td>\n",
       "      <td>12:15</td>\n",
       "    </tr>\n",
       "    <tr>\n",
       "      <th>24739</th>\n",
       "      <td>FreeStyle LibreLink</td>\n",
       "      <td>28-06-2020 13:16</td>\n",
       "      <td>1</td>\n",
       "      <td>7.8</td>\n",
       "      <td>28-06-2020</td>\n",
       "      <td>13:16</td>\n",
       "    </tr>\n",
       "    <tr>\n",
       "      <th>24740</th>\n",
       "      <td>FreeStyle LibreLink</td>\n",
       "      <td>29-06-2020 12:22</td>\n",
       "      <td>1</td>\n",
       "      <td>3.9</td>\n",
       "      <td>29-06-2020</td>\n",
       "      <td>12:22</td>\n",
       "    </tr>\n",
       "    <tr>\n",
       "      <th>24741</th>\n",
       "      <td>FreeStyle LibreLink</td>\n",
       "      <td>29-06-2020 19:16</td>\n",
       "      <td>1</td>\n",
       "      <td>3.8</td>\n",
       "      <td>29-06-2020</td>\n",
       "      <td>19:16</td>\n",
       "    </tr>\n",
       "  </tbody>\n",
       "</table>\n",
       "<p>24742 rows × 6 columns</p>\n",
       "</div>"
      ],
      "text/plain": [
       "                    Device  Device_Timestamp  Type  Glucose_mmol/L  \\\n",
       "0      FreeStyle LibreLink  20-08-2020 11:32     0             2.7   \n",
       "1      FreeStyle LibreLink  20-08-2020 11:47     0             3.0   \n",
       "2      FreeStyle LibreLink  20-08-2020 12:02     0             3.1   \n",
       "3      FreeStyle LibreLink  20-08-2020 12:17     0             2.7   \n",
       "4      FreeStyle LibreLink  20-08-2020 12:32     0             2.9   \n",
       "...                    ...               ...   ...             ...   \n",
       "24737  FreeStyle LibreLink  27-06-2020 21:33     1             4.6   \n",
       "24738  FreeStyle LibreLink  28-06-2020 12:15     1            10.2   \n",
       "24739  FreeStyle LibreLink  28-06-2020 13:16     1             7.8   \n",
       "24740  FreeStyle LibreLink  29-06-2020 12:22     1             3.9   \n",
       "24741  FreeStyle LibreLink  29-06-2020 19:16     1             3.8   \n",
       "\n",
       "             Date   Time  \n",
       "0      20-08-2020  11:32  \n",
       "1      20-08-2020  11:47  \n",
       "2      20-08-2020  12:02  \n",
       "3      20-08-2020  12:17  \n",
       "4      20-08-2020  12:32  \n",
       "...           ...    ...  \n",
       "24737  27-06-2020  21:33  \n",
       "24738  28-06-2020  12:15  \n",
       "24739  28-06-2020  13:16  \n",
       "24740  29-06-2020  12:22  \n",
       "24741  29-06-2020  19:16  \n",
       "\n",
       "[24742 rows x 6 columns]"
      ]
     },
     "execution_count": 120,
     "metadata": {},
     "output_type": "execute_result"
    }
   ],
   "source": [
    "df # looking at the data"
   ]
  },
  {
   "cell_type": "code",
   "execution_count": 121,
   "id": "c7f04527-f9df-409e-bfd3-90814955c3c3",
   "metadata": {},
   "outputs": [
    {
     "data": {
      "text/plain": [
       "Index(['Device', 'Device_Timestamp', 'Type', 'Glucose_mmol/L', 'Date', 'Time'], dtype='object')"
      ]
     },
     "execution_count": 121,
     "metadata": {},
     "output_type": "execute_result"
    }
   ],
   "source": [
    "df.columns # looking at the data"
   ]
  },
  {
   "cell_type": "code",
   "execution_count": 125,
   "id": "f3eebe31-8e64-4369-bef4-d294a3e25420",
   "metadata": {},
   "outputs": [
    {
     "data": {
      "text/html": [
       "<div>\n",
       "<style scoped>\n",
       "    .dataframe tbody tr th:only-of-type {\n",
       "        vertical-align: middle;\n",
       "    }\n",
       "\n",
       "    .dataframe tbody tr th {\n",
       "        vertical-align: top;\n",
       "    }\n",
       "\n",
       "    .dataframe thead th {\n",
       "        text-align: right;\n",
       "    }\n",
       "</style>\n",
       "<table border=\"1\" class=\"dataframe\">\n",
       "  <thead>\n",
       "    <tr style=\"text-align: right;\">\n",
       "      <th></th>\n",
       "      <th>Device</th>\n",
       "      <th>Device_Timestamp</th>\n",
       "      <th>Type</th>\n",
       "      <th>Glucose_mmol/L</th>\n",
       "      <th>Date</th>\n",
       "      <th>Time</th>\n",
       "    </tr>\n",
       "  </thead>\n",
       "  <tbody>\n",
       "    <tr>\n",
       "      <th>0</th>\n",
       "      <td>FreeStyle LibreLink</td>\n",
       "      <td>2020-08-20 11:32:00</td>\n",
       "      <td>0</td>\n",
       "      <td>2.7</td>\n",
       "      <td>2020-08-20</td>\n",
       "      <td>11:32</td>\n",
       "    </tr>\n",
       "    <tr>\n",
       "      <th>1</th>\n",
       "      <td>FreeStyle LibreLink</td>\n",
       "      <td>2020-08-20 11:47:00</td>\n",
       "      <td>0</td>\n",
       "      <td>3.0</td>\n",
       "      <td>2020-08-20</td>\n",
       "      <td>11:47</td>\n",
       "    </tr>\n",
       "    <tr>\n",
       "      <th>2</th>\n",
       "      <td>FreeStyle LibreLink</td>\n",
       "      <td>2020-08-20 12:02:00</td>\n",
       "      <td>0</td>\n",
       "      <td>3.1</td>\n",
       "      <td>2020-08-20</td>\n",
       "      <td>12:02</td>\n",
       "    </tr>\n",
       "    <tr>\n",
       "      <th>3</th>\n",
       "      <td>FreeStyle LibreLink</td>\n",
       "      <td>2020-08-20 12:17:00</td>\n",
       "      <td>0</td>\n",
       "      <td>2.7</td>\n",
       "      <td>2020-08-20</td>\n",
       "      <td>12:17</td>\n",
       "    </tr>\n",
       "    <tr>\n",
       "      <th>4</th>\n",
       "      <td>FreeStyle LibreLink</td>\n",
       "      <td>2020-08-20 12:32:00</td>\n",
       "      <td>0</td>\n",
       "      <td>2.9</td>\n",
       "      <td>2020-08-20</td>\n",
       "      <td>12:32</td>\n",
       "    </tr>\n",
       "    <tr>\n",
       "      <th>...</th>\n",
       "      <td>...</td>\n",
       "      <td>...</td>\n",
       "      <td>...</td>\n",
       "      <td>...</td>\n",
       "      <td>...</td>\n",
       "      <td>...</td>\n",
       "    </tr>\n",
       "    <tr>\n",
       "      <th>24737</th>\n",
       "      <td>FreeStyle LibreLink</td>\n",
       "      <td>2020-06-27 21:33:00</td>\n",
       "      <td>1</td>\n",
       "      <td>4.6</td>\n",
       "      <td>2020-06-27</td>\n",
       "      <td>21:33</td>\n",
       "    </tr>\n",
       "    <tr>\n",
       "      <th>24738</th>\n",
       "      <td>FreeStyle LibreLink</td>\n",
       "      <td>2020-06-28 12:15:00</td>\n",
       "      <td>1</td>\n",
       "      <td>10.2</td>\n",
       "      <td>2020-06-28</td>\n",
       "      <td>12:15</td>\n",
       "    </tr>\n",
       "    <tr>\n",
       "      <th>24739</th>\n",
       "      <td>FreeStyle LibreLink</td>\n",
       "      <td>2020-06-28 13:16:00</td>\n",
       "      <td>1</td>\n",
       "      <td>7.8</td>\n",
       "      <td>2020-06-28</td>\n",
       "      <td>13:16</td>\n",
       "    </tr>\n",
       "    <tr>\n",
       "      <th>24740</th>\n",
       "      <td>FreeStyle LibreLink</td>\n",
       "      <td>2020-06-29 12:22:00</td>\n",
       "      <td>1</td>\n",
       "      <td>3.9</td>\n",
       "      <td>2020-06-29</td>\n",
       "      <td>12:22</td>\n",
       "    </tr>\n",
       "    <tr>\n",
       "      <th>24741</th>\n",
       "      <td>FreeStyle LibreLink</td>\n",
       "      <td>2020-06-29 19:16:00</td>\n",
       "      <td>1</td>\n",
       "      <td>3.8</td>\n",
       "      <td>2020-06-29</td>\n",
       "      <td>19:16</td>\n",
       "    </tr>\n",
       "  </tbody>\n",
       "</table>\n",
       "<p>24742 rows × 6 columns</p>\n",
       "</div>"
      ],
      "text/plain": [
       "                    Device    Device_Timestamp  Type  Glucose_mmol/L  \\\n",
       "0      FreeStyle LibreLink 2020-08-20 11:32:00     0             2.7   \n",
       "1      FreeStyle LibreLink 2020-08-20 11:47:00     0             3.0   \n",
       "2      FreeStyle LibreLink 2020-08-20 12:02:00     0             3.1   \n",
       "3      FreeStyle LibreLink 2020-08-20 12:17:00     0             2.7   \n",
       "4      FreeStyle LibreLink 2020-08-20 12:32:00     0             2.9   \n",
       "...                    ...                 ...   ...             ...   \n",
       "24737  FreeStyle LibreLink 2020-06-27 21:33:00     1             4.6   \n",
       "24738  FreeStyle LibreLink 2020-06-28 12:15:00     1            10.2   \n",
       "24739  FreeStyle LibreLink 2020-06-28 13:16:00     1             7.8   \n",
       "24740  FreeStyle LibreLink 2020-06-29 12:22:00     1             3.9   \n",
       "24741  FreeStyle LibreLink 2020-06-29 19:16:00     1             3.8   \n",
       "\n",
       "             Date   Time  \n",
       "0      2020-08-20  11:32  \n",
       "1      2020-08-20  11:47  \n",
       "2      2020-08-20  12:02  \n",
       "3      2020-08-20  12:17  \n",
       "4      2020-08-20  12:32  \n",
       "...           ...    ...  \n",
       "24737  2020-06-27  21:33  \n",
       "24738  2020-06-28  12:15  \n",
       "24739  2020-06-28  13:16  \n",
       "24740  2020-06-29  12:22  \n",
       "24741  2020-06-29  19:16  \n",
       "\n",
       "[24742 rows x 6 columns]"
      ]
     },
     "execution_count": 125,
     "metadata": {},
     "output_type": "execute_result"
    }
   ],
   "source": [
    "df['Device_Timestamp'] = pd.to_datetime(df['Device_Timestamp'], format='%d-%m-%Y %H:%M')\n",
    "df['Date'] = pd.to_datetime(df['Date'], format='%d-%m-%Y')\n",
    "df['Date'] = df['Date'].dt.date\n",
    "df\n",
    "# df['date_col'] =  pd.to_datetime(df['date_col'], format='%d/%m/%Y')\n",
    "#pd.to_datetime(pd.Series(['05/23/2005']), format=\"%m/%d/%Y\")"
   ]
  },
  {
   "cell_type": "code",
   "execution_count": 126,
   "id": "133fed1e-4a66-465a-903c-193065b157d5",
   "metadata": {},
   "outputs": [],
   "source": [
    "# data already pre-processed, will add data preprocessing automation here in future update\n",
    "# make data interactive\n",
    "idf = df.interactive()"
   ]
  },
  {
   "cell_type": "code",
   "execution_count": 127,
   "id": "6336f4c7-1ea7-4c6e-a1bd-7e71608f35ad",
   "metadata": {},
   "outputs": [
    {
     "data": {},
     "metadata": {},
     "output_type": "display_data"
    },
    {
     "data": {
      "application/vnd.holoviews_exec.v0+json": "",
      "text/html": [
       "<div id='3194'>\n",
       "\n",
       "\n",
       "\n",
       "\n",
       "\n",
       "  <div class=\"bk-root\" id=\"c64e2a9b-1271-48b0-a88c-eaa4a7501328\" data-root-id=\"3194\"></div>\n",
       "</div>\n",
       "<script type=\"application/javascript\">(function(root) {\n",
       "  function embed_document(root) {\n",
       "    var docs_json = {\"b9a762ea-6733-4337-bb0a-a752cf8fc2f2\":{\"defs\":[{\"extends\":null,\"module\":null,\"name\":\"ReactiveHTML1\",\"overrides\":[],\"properties\":[]},{\"extends\":null,\"module\":null,\"name\":\"FlexBox1\",\"overrides\":[],\"properties\":[{\"default\":\"flex-start\",\"kind\":null,\"name\":\"align_content\"},{\"default\":\"flex-start\",\"kind\":null,\"name\":\"align_items\"},{\"default\":\"row\",\"kind\":null,\"name\":\"flex_direction\"},{\"default\":\"wrap\",\"kind\":null,\"name\":\"flex_wrap\"},{\"default\":\"flex-start\",\"kind\":null,\"name\":\"justify_content\"}]},{\"extends\":null,\"module\":null,\"name\":\"TemplateActions1\",\"overrides\":[],\"properties\":[{\"default\":0,\"kind\":null,\"name\":\"open_modal\"},{\"default\":0,\"kind\":null,\"name\":\"close_modal\"}]},{\"extends\":null,\"module\":null,\"name\":\"MaterialTemplateActions1\",\"overrides\":[],\"properties\":[{\"default\":0,\"kind\":null,\"name\":\"open_modal\"},{\"default\":0,\"kind\":null,\"name\":\"close_modal\"}]}],\"roots\":{\"references\":[{\"attributes\":{\"client_comm_id\":\"e614cbcf9383492c85de8c7bea25b690\",\"comm_id\":\"2c36312f1b0f4867aa4396abd6d13b18\",\"plot_id\":\"3194\"},\"id\":\"3195\",\"type\":\"panel.models.comm_manager.CommManager\"},{\"attributes\":{\"margin\":[5,10,5,10],\"max_date\":\"2021-06-05\",\"min_date\":\"2019-08-12\",\"sizing_mode\":\"stretch_width\",\"title\":\"Date Picker\",\"value\":\"2021-06-05\"},\"id\":\"3194\",\"type\":\"DatePicker\"}],\"root_ids\":[\"3194\",\"3195\"]},\"title\":\"Bokeh Application\",\"version\":\"2.4.2\"}};\n",
       "    var render_items = [{\"docid\":\"b9a762ea-6733-4337-bb0a-a752cf8fc2f2\",\"root_ids\":[\"3194\"],\"roots\":{\"3194\":\"c64e2a9b-1271-48b0-a88c-eaa4a7501328\"}}];\n",
       "    root.Bokeh.embed.embed_items_notebook(docs_json, render_items);\n",
       "  }\n",
       "  if (root.Bokeh !== undefined && root.Bokeh.Panel !== undefined && ( root['Tabulator'] !== undefined)) {\n",
       "    embed_document(root);\n",
       "  } else {\n",
       "    var attempts = 0;\n",
       "    var timer = setInterval(function(root) {\n",
       "      if (root.Bokeh !== undefined && root.Bokeh.Panel !== undefined && (root['Tabulator'] !== undefined)) {\n",
       "        clearInterval(timer);\n",
       "        embed_document(root);\n",
       "      } else if (document.readyState == \"complete\") {\n",
       "        attempts++;\n",
       "        if (attempts > 200) {\n",
       "          clearInterval(timer);\n",
       "          console.log(\"Bokeh: ERROR: Unable to run BokehJS code because BokehJS library is missing\");\n",
       "        }\n",
       "      }\n",
       "    }, 25, root)\n",
       "  }\n",
       "})(window);</script>"
      ],
      "text/plain": [
       "DatePicker(end=datetime.date(2021, 6, 5), name='Date Picker', sizing_mode='stretch_width', start=datetime.date(2019, ..., value=datetime.date(2021, 6, 5))"
      ]
     },
     "execution_count": 127,
     "metadata": {
      "application/vnd.holoviews_exec.v0+json": {
       "id": "3194"
      }
     },
     "output_type": "execute_result"
    }
   ],
   "source": [
    "#date_picker\n",
    "date_picker = pn.widgets.DatePicker(name='Date Picker')\n",
    "date_picker.end = dt.date(2021,6,5)\n",
    "date_picker.start = dt.date(2019,8,12)\n",
    "date_picker.value = dt.date(2021,6,5)\n",
    "date_picker\n"
   ]
  },
  {
   "cell_type": "code",
   "execution_count": 128,
   "id": "96b24f0a-544c-4cb5-ab65-257eedeace20",
   "metadata": {},
   "outputs": [
    {
     "data": {},
     "metadata": {},
     "output_type": "display_data"
    },
    {
     "data": {
      "application/vnd.holoviews_exec.v0+json": "",
      "text/html": [
       "<div id='3196'>\n",
       "\n",
       "\n",
       "\n",
       "\n",
       "\n",
       "  <div class=\"bk-root\" id=\"3db0866c-6d49-4747-92f3-b3be8e31aae0\" data-root-id=\"3196\"></div>\n",
       "</div>\n",
       "<script type=\"application/javascript\">(function(root) {\n",
       "  function embed_document(root) {\n",
       "    var docs_json = {\"10cffee7-05b5-4e58-b65c-327e1391aa29\":{\"defs\":[{\"extends\":null,\"module\":null,\"name\":\"ReactiveHTML1\",\"overrides\":[],\"properties\":[]},{\"extends\":null,\"module\":null,\"name\":\"FlexBox1\",\"overrides\":[],\"properties\":[{\"default\":\"flex-start\",\"kind\":null,\"name\":\"align_content\"},{\"default\":\"flex-start\",\"kind\":null,\"name\":\"align_items\"},{\"default\":\"row\",\"kind\":null,\"name\":\"flex_direction\"},{\"default\":\"wrap\",\"kind\":null,\"name\":\"flex_wrap\"},{\"default\":\"flex-start\",\"kind\":null,\"name\":\"justify_content\"}]},{\"extends\":null,\"module\":null,\"name\":\"TemplateActions1\",\"overrides\":[],\"properties\":[{\"default\":0,\"kind\":null,\"name\":\"open_modal\"},{\"default\":0,\"kind\":null,\"name\":\"close_modal\"}]},{\"extends\":null,\"module\":null,\"name\":\"MaterialTemplateActions1\",\"overrides\":[],\"properties\":[{\"default\":0,\"kind\":null,\"name\":\"open_modal\"},{\"default\":0,\"kind\":null,\"name\":\"close_modal\"}]}],\"roots\":{\"references\":[{\"attributes\":{\"client_comm_id\":\"4cb4fedad1be48169257c547479e4672\",\"comm_id\":\"8028a6b948ee459fa633ae5e8b546056\",\"plot_id\":\"3196\"},\"id\":\"3197\",\"type\":\"panel.models.comm_manager.CommManager\"},{\"attributes\":{\"active\":0,\"button_type\":\"success\",\"labels\":[\"Glucose mmol/L\"],\"margin\":[5,10,5,10],\"sizing_mode\":\"stretch_width\"},\"id\":\"3196\",\"type\":\"RadioButtonGroup\"}],\"root_ids\":[\"3196\",\"3197\"]},\"title\":\"Bokeh Application\",\"version\":\"2.4.2\"}};\n",
       "    var render_items = [{\"docid\":\"10cffee7-05b5-4e58-b65c-327e1391aa29\",\"root_ids\":[\"3196\"],\"roots\":{\"3196\":\"3db0866c-6d49-4747-92f3-b3be8e31aae0\"}}];\n",
       "    root.Bokeh.embed.embed_items_notebook(docs_json, render_items);\n",
       "  }\n",
       "  if (root.Bokeh !== undefined && root.Bokeh.Panel !== undefined && ( root['Tabulator'] !== undefined)) {\n",
       "    embed_document(root);\n",
       "  } else {\n",
       "    var attempts = 0;\n",
       "    var timer = setInterval(function(root) {\n",
       "      if (root.Bokeh !== undefined && root.Bokeh.Panel !== undefined && (root['Tabulator'] !== undefined)) {\n",
       "        clearInterval(timer);\n",
       "        embed_document(root);\n",
       "      } else if (document.readyState == \"complete\") {\n",
       "        attempts++;\n",
       "        if (attempts > 200) {\n",
       "          clearInterval(timer);\n",
       "          console.log(\"Bokeh: ERROR: Unable to run BokehJS code because BokehJS library is missing\");\n",
       "        }\n",
       "      }\n",
       "    }, 25, root)\n",
       "  }\n",
       "})(window);</script>"
      ],
      "text/plain": [
       "RadioButtonGroup(button_type='success', name='Y axis', options=['Glucose mmol/L'], sizing_mode='stretch_width', value='Glucose mmol/L')"
      ]
     },
     "execution_count": 128,
     "metadata": {
      "application/vnd.holoviews_exec.v0+json": {
       "id": "3196"
      }
     },
     "output_type": "execute_result"
    }
   ],
   "source": [
    "yaxis_glucose = pn.widgets.RadioButtonGroup(\n",
    "    name='Y axis',\n",
    "    options=['Glucose mmol/L'],\n",
    "    button_type='success'\n",
    ")\n",
    "yaxis_glucose"
   ]
  },
  {
   "cell_type": "code",
   "execution_count": 139,
   "id": "a3f39969-84ab-42cd-9553-0563c746d1ce",
   "metadata": {},
   "outputs": [],
   "source": [
    "glucose_pipeline = (\n",
    "    idf[(idf.Date == date_picker) & (idf.Device == 'FreeStyle Libre')]\n",
    "    .sort_values(by='Device_Timestamp')\n",
    ")"
   ]
  },
  {
   "cell_type": "code",
   "execution_count": 140,
   "id": "9f0c9a35-9d50-4348-ba22-ddec331bc1bd",
   "metadata": {},
   "outputs": [
    {
     "data": {},
     "metadata": {},
     "output_type": "display_data"
    },
    {
     "data": {
      "application/vnd.holoviews_exec.v0+json": "",
      "text/html": [
       "<div id='3501'>\n",
       "\n",
       "\n",
       "\n",
       "\n",
       "\n",
       "  <div class=\"bk-root\" id=\"14b22dd2-178f-49d7-ae4f-6c42f4ab9813\" data-root-id=\"3501\"></div>\n",
       "</div>\n",
       "<script type=\"application/javascript\">(function(root) {\n",
       "  function embed_document(root) {\n",
       "    var docs_json = {\"a0dac79e-16ad-43f0-ab5a-fc1cd2e58004\":{\"defs\":[{\"extends\":null,\"module\":null,\"name\":\"ReactiveHTML1\",\"overrides\":[],\"properties\":[]},{\"extends\":null,\"module\":null,\"name\":\"FlexBox1\",\"overrides\":[],\"properties\":[{\"default\":\"flex-start\",\"kind\":null,\"name\":\"align_content\"},{\"default\":\"flex-start\",\"kind\":null,\"name\":\"align_items\"},{\"default\":\"row\",\"kind\":null,\"name\":\"flex_direction\"},{\"default\":\"wrap\",\"kind\":null,\"name\":\"flex_wrap\"},{\"default\":\"flex-start\",\"kind\":null,\"name\":\"justify_content\"}]},{\"extends\":null,\"module\":null,\"name\":\"TemplateActions1\",\"overrides\":[],\"properties\":[{\"default\":0,\"kind\":null,\"name\":\"open_modal\"},{\"default\":0,\"kind\":null,\"name\":\"close_modal\"}]},{\"extends\":null,\"module\":null,\"name\":\"MaterialTemplateActions1\",\"overrides\":[],\"properties\":[{\"default\":0,\"kind\":null,\"name\":\"open_modal\"},{\"default\":0,\"kind\":null,\"name\":\"close_modal\"}]}],\"roots\":{\"references\":[{\"attributes\":{\"children\":[{\"id\":\"3505\"}],\"margin\":[0,0,0,0],\"name\":\"Column09852\",\"sizing_mode\":\"stretch_width\"},\"id\":\"3504\",\"type\":\"Column\"},{\"attributes\":{\"margin\":[5,5,5,5],\"name\":\"HSpacer09879\",\"sizing_mode\":\"stretch_width\"},\"id\":\"3506\",\"type\":\"Spacer\"},{\"attributes\":{\"children\":[{\"id\":\"3508\"}],\"margin\":[0,0,0,0],\"name\":\"Row09857\",\"sizing_mode\":\"stretch_width\"},\"id\":\"3507\",\"type\":\"Row\"},{\"attributes\":{\"margin\":[5,10,5,10],\"max_date\":\"2021-06-05\",\"min_date\":\"2019-08-12\",\"sizing_mode\":\"stretch_width\",\"title\":\"Date Picker\",\"value\":\"2021-06-05\"},\"id\":\"3505\",\"type\":\"DatePicker\"},{\"attributes\":{\"margin\":[5,5,5,5],\"name\":\"DataFrame09877\",\"sizing_mode\":\"stretch_width\",\"text\":\"&lt;table border=&quot;0&quot; class=&quot;dataframe panel-df&quot;&gt;\\n  &lt;thead&gt;\\n    &lt;tr style=&quot;text-align: right;&quot;&gt;\\n      &lt;th&gt;&lt;/th&gt;\\n      &lt;th&gt;Device&lt;/th&gt;\\n      &lt;th&gt;Device_Timestamp&lt;/th&gt;\\n      &lt;th&gt;Type&lt;/th&gt;\\n      &lt;th&gt;Glucose_mmol/L&lt;/th&gt;\\n      &lt;th&gt;Date&lt;/th&gt;\\n      &lt;th&gt;Time&lt;/th&gt;\\n    &lt;/tr&gt;\\n  &lt;/thead&gt;\\n  &lt;tbody&gt;\\n    &lt;tr&gt;\\n      &lt;th&gt;16927&lt;/th&gt;\\n      &lt;td&gt;FreeStyle Libre&lt;/td&gt;\\n      &lt;td&gt;2021-06-05 00:11:00&lt;/td&gt;\\n      &lt;td&gt;0&lt;/td&gt;\\n      &lt;td&gt;3.8&lt;/td&gt;\\n      &lt;td&gt;2021-06-05&lt;/td&gt;\\n      &lt;td&gt;0:11&lt;/td&gt;\\n    &lt;/tr&gt;\\n    &lt;tr&gt;\\n      &lt;th&gt;16928&lt;/th&gt;\\n      &lt;td&gt;FreeStyle Libre&lt;/td&gt;\\n      &lt;td&gt;2021-06-05 00:26:00&lt;/td&gt;\\n      &lt;td&gt;0&lt;/td&gt;\\n      &lt;td&gt;4.1&lt;/td&gt;\\n      &lt;td&gt;2021-06-05&lt;/td&gt;\\n      &lt;td&gt;0:26&lt;/td&gt;\\n    &lt;/tr&gt;\\n    &lt;tr&gt;\\n      &lt;th&gt;16929&lt;/th&gt;\\n      &lt;td&gt;FreeStyle Libre&lt;/td&gt;\\n      &lt;td&gt;2021-06-05 00:41:00&lt;/td&gt;\\n      &lt;td&gt;0&lt;/td&gt;\\n      &lt;td&gt;4.4&lt;/td&gt;\\n      &lt;td&gt;2021-06-05&lt;/td&gt;\\n      &lt;td&gt;0:41&lt;/td&gt;\\n    &lt;/tr&gt;\\n    &lt;tr&gt;\\n      &lt;th&gt;16930&lt;/th&gt;\\n      &lt;td&gt;FreeStyle Libre&lt;/td&gt;\\n      &lt;td&gt;2021-06-05 00:56:00&lt;/td&gt;\\n      &lt;td&gt;0&lt;/td&gt;\\n      &lt;td&gt;4.6&lt;/td&gt;\\n      &lt;td&gt;2021-06-05&lt;/td&gt;\\n      &lt;td&gt;0:56&lt;/td&gt;\\n    &lt;/tr&gt;\\n    &lt;tr&gt;\\n      &lt;th&gt;16931&lt;/th&gt;\\n      &lt;td&gt;FreeStyle Libre&lt;/td&gt;\\n      &lt;td&gt;2021-06-05 01:11:00&lt;/td&gt;\\n      &lt;td&gt;0&lt;/td&gt;\\n      &lt;td&gt;4.4&lt;/td&gt;\\n      &lt;td&gt;2021-06-05&lt;/td&gt;\\n      &lt;td&gt;1:11&lt;/td&gt;\\n    &lt;/tr&gt;\\n    &lt;tr&gt;\\n      &lt;th&gt;16932&lt;/th&gt;\\n      &lt;td&gt;FreeStyle Libre&lt;/td&gt;\\n      &lt;td&gt;2021-06-05 01:26:00&lt;/td&gt;\\n      &lt;td&gt;0&lt;/td&gt;\\n      &lt;td&gt;4.3&lt;/td&gt;\\n      &lt;td&gt;2021-06-05&lt;/td&gt;\\n      &lt;td&gt;1:26&lt;/td&gt;\\n    &lt;/tr&gt;\\n    &lt;tr&gt;\\n      &lt;th&gt;16933&lt;/th&gt;\\n      &lt;td&gt;FreeStyle Libre&lt;/td&gt;\\n      &lt;td&gt;2021-06-05 01:41:00&lt;/td&gt;\\n      &lt;td&gt;0&lt;/td&gt;\\n      &lt;td&gt;4.2&lt;/td&gt;\\n      &lt;td&gt;2021-06-05&lt;/td&gt;\\n      &lt;td&gt;1:41&lt;/td&gt;\\n    &lt;/tr&gt;\\n    &lt;tr&gt;\\n      &lt;th&gt;16934&lt;/th&gt;\\n      &lt;td&gt;FreeStyle Libre&lt;/td&gt;\\n      &lt;td&gt;2021-06-05 01:56:00&lt;/td&gt;\\n      &lt;td&gt;0&lt;/td&gt;\\n      &lt;td&gt;3.7&lt;/td&gt;\\n      &lt;td&gt;2021-06-05&lt;/td&gt;\\n      &lt;td&gt;1:56&lt;/td&gt;\\n    &lt;/tr&gt;\\n    &lt;tr&gt;\\n      &lt;th&gt;16935&lt;/th&gt;\\n      &lt;td&gt;FreeStyle Libre&lt;/td&gt;\\n      &lt;td&gt;2021-06-05 02:11:00&lt;/td&gt;\\n      &lt;td&gt;0&lt;/td&gt;\\n      &lt;td&gt;3.4&lt;/td&gt;\\n      &lt;td&gt;2021-06-05&lt;/td&gt;\\n      &lt;td&gt;2:11&lt;/td&gt;\\n    &lt;/tr&gt;\\n    &lt;tr&gt;\\n      &lt;th&gt;16936&lt;/th&gt;\\n      &lt;td&gt;FreeStyle Libre&lt;/td&gt;\\n      &lt;td&gt;2021-06-05 02:26:00&lt;/td&gt;\\n      &lt;td&gt;0&lt;/td&gt;\\n      &lt;td&gt;3.2&lt;/td&gt;\\n      &lt;td&gt;2021-06-05&lt;/td&gt;\\n      &lt;td&gt;2:26&lt;/td&gt;\\n    &lt;/tr&gt;\\n    &lt;tr&gt;\\n      &lt;th&gt;16937&lt;/th&gt;\\n      &lt;td&gt;FreeStyle Libre&lt;/td&gt;\\n      &lt;td&gt;2021-06-05 02:41:00&lt;/td&gt;\\n      &lt;td&gt;0&lt;/td&gt;\\n      &lt;td&gt;3.1&lt;/td&gt;\\n      &lt;td&gt;2021-06-05&lt;/td&gt;\\n      &lt;td&gt;2:41&lt;/td&gt;\\n    &lt;/tr&gt;\\n    &lt;tr&gt;\\n      &lt;th&gt;16938&lt;/th&gt;\\n      &lt;td&gt;FreeStyle Libre&lt;/td&gt;\\n      &lt;td&gt;2021-06-05 02:56:00&lt;/td&gt;\\n      &lt;td&gt;0&lt;/td&gt;\\n      &lt;td&gt;2.9&lt;/td&gt;\\n      &lt;td&gt;2021-06-05&lt;/td&gt;\\n      &lt;td&gt;2:56&lt;/td&gt;\\n    &lt;/tr&gt;\\n    &lt;tr&gt;\\n      &lt;th&gt;16939&lt;/th&gt;\\n      &lt;td&gt;FreeStyle Libre&lt;/td&gt;\\n      &lt;td&gt;2021-06-05 03:11:00&lt;/td&gt;\\n      &lt;td&gt;0&lt;/td&gt;\\n      &lt;td&gt;2.7&lt;/td&gt;\\n      &lt;td&gt;2021-06-05&lt;/td&gt;\\n      &lt;td&gt;3:11&lt;/td&gt;\\n    &lt;/tr&gt;\\n    &lt;tr&gt;\\n      &lt;th&gt;16940&lt;/th&gt;\\n      &lt;td&gt;FreeStyle Libre&lt;/td&gt;\\n      &lt;td&gt;2021-06-05 03:26:00&lt;/td&gt;\\n      &lt;td&gt;0&lt;/td&gt;\\n      &lt;td&gt;2.3&lt;/td&gt;\\n      &lt;td&gt;2021-06-05&lt;/td&gt;\\n      &lt;td&gt;3:26&lt;/td&gt;\\n    &lt;/tr&gt;\\n    &lt;tr&gt;\\n      &lt;th&gt;16941&lt;/th&gt;\\n      &lt;td&gt;FreeStyle Libre&lt;/td&gt;\\n      &lt;td&gt;2021-06-05 03:41:00&lt;/td&gt;\\n      &lt;td&gt;0&lt;/td&gt;\\n      &lt;td&gt;2.2&lt;/td&gt;\\n      &lt;td&gt;2021-06-05&lt;/td&gt;\\n      &lt;td&gt;3:41&lt;/td&gt;\\n    &lt;/tr&gt;\\n    &lt;tr&gt;\\n      &lt;th&gt;16942&lt;/th&gt;\\n      &lt;td&gt;FreeStyle Libre&lt;/td&gt;\\n      &lt;td&gt;2021-06-05 03:56:00&lt;/td&gt;\\n      &lt;td&gt;0&lt;/td&gt;\\n      &lt;td&gt;2.2&lt;/td&gt;\\n      &lt;td&gt;2021-06-05&lt;/td&gt;\\n      &lt;td&gt;3:56&lt;/td&gt;\\n    &lt;/tr&gt;\\n    &lt;tr&gt;\\n      &lt;th&gt;16943&lt;/th&gt;\\n      &lt;td&gt;FreeStyle Libre&lt;/td&gt;\\n      &lt;td&gt;2021-06-05 04:11:00&lt;/td&gt;\\n      &lt;td&gt;0&lt;/td&gt;\\n      &lt;td&gt;2.2&lt;/td&gt;\\n      &lt;td&gt;2021-06-05&lt;/td&gt;\\n      &lt;td&gt;4:11&lt;/td&gt;\\n    &lt;/tr&gt;\\n    &lt;tr&gt;\\n      &lt;th&gt;16944&lt;/th&gt;\\n      &lt;td&gt;FreeStyle Libre&lt;/td&gt;\\n      &lt;td&gt;2021-06-05 04:26:00&lt;/td&gt;\\n      &lt;td&gt;0&lt;/td&gt;\\n      &lt;td&gt;2.2&lt;/td&gt;\\n      &lt;td&gt;2021-06-05&lt;/td&gt;\\n      &lt;td&gt;4:26&lt;/td&gt;\\n    &lt;/tr&gt;\\n    &lt;tr&gt;\\n      &lt;th&gt;16945&lt;/th&gt;\\n      &lt;td&gt;FreeStyle Libre&lt;/td&gt;\\n      &lt;td&gt;2021-06-05 04:41:00&lt;/td&gt;\\n      &lt;td&gt;0&lt;/td&gt;\\n      &lt;td&gt;2.2&lt;/td&gt;\\n      &lt;td&gt;2021-06-05&lt;/td&gt;\\n      &lt;td&gt;4:41&lt;/td&gt;\\n    &lt;/tr&gt;\\n    &lt;tr&gt;\\n      &lt;th&gt;16946&lt;/th&gt;\\n      &lt;td&gt;FreeStyle Libre&lt;/td&gt;\\n      &lt;td&gt;2021-06-05 04:56:00&lt;/td&gt;\\n      &lt;td&gt;0&lt;/td&gt;\\n      &lt;td&gt;2.2&lt;/td&gt;\\n      &lt;td&gt;2021-06-05&lt;/td&gt;\\n      &lt;td&gt;4:56&lt;/td&gt;\\n    &lt;/tr&gt;\\n    &lt;tr&gt;\\n      &lt;th&gt;16947&lt;/th&gt;\\n      &lt;td&gt;FreeStyle Libre&lt;/td&gt;\\n      &lt;td&gt;2021-06-05 05:11:00&lt;/td&gt;\\n      &lt;td&gt;0&lt;/td&gt;\\n      &lt;td&gt;2.2&lt;/td&gt;\\n      &lt;td&gt;2021-06-05&lt;/td&gt;\\n      &lt;td&gt;5:11&lt;/td&gt;\\n    &lt;/tr&gt;\\n    &lt;tr&gt;\\n      &lt;th&gt;16948&lt;/th&gt;\\n      &lt;td&gt;FreeStyle Libre&lt;/td&gt;\\n      &lt;td&gt;2021-06-05 05:26:00&lt;/td&gt;\\n      &lt;td&gt;0&lt;/td&gt;\\n      &lt;td&gt;2.2&lt;/td&gt;\\n      &lt;td&gt;2021-06-05&lt;/td&gt;\\n      &lt;td&gt;5:26&lt;/td&gt;\\n    &lt;/tr&gt;\\n    &lt;tr&gt;\\n      &lt;th&gt;16949&lt;/th&gt;\\n      &lt;td&gt;FreeStyle Libre&lt;/td&gt;\\n      &lt;td&gt;2021-06-05 05:41:00&lt;/td&gt;\\n      &lt;td&gt;0&lt;/td&gt;\\n      &lt;td&gt;2.2&lt;/td&gt;\\n      &lt;td&gt;2021-06-05&lt;/td&gt;\\n      &lt;td&gt;5:41&lt;/td&gt;\\n    &lt;/tr&gt;\\n    &lt;tr&gt;\\n      &lt;th&gt;16950&lt;/th&gt;\\n      &lt;td&gt;FreeStyle Libre&lt;/td&gt;\\n      &lt;td&gt;2021-06-05 05:56:00&lt;/td&gt;\\n      &lt;td&gt;0&lt;/td&gt;\\n      &lt;td&gt;2.2&lt;/td&gt;\\n      &lt;td&gt;2021-06-05&lt;/td&gt;\\n      &lt;td&gt;5:56&lt;/td&gt;\\n    &lt;/tr&gt;\\n    &lt;tr&gt;\\n      &lt;th&gt;16951&lt;/th&gt;\\n      &lt;td&gt;FreeStyle Libre&lt;/td&gt;\\n      &lt;td&gt;2021-06-05 06:11:00&lt;/td&gt;\\n      &lt;td&gt;0&lt;/td&gt;\\n      &lt;td&gt;2.2&lt;/td&gt;\\n      &lt;td&gt;2021-06-05&lt;/td&gt;\\n      &lt;td&gt;6:11&lt;/td&gt;\\n    &lt;/tr&gt;\\n    &lt;tr&gt;\\n      &lt;th&gt;16952&lt;/th&gt;\\n      &lt;td&gt;FreeStyle Libre&lt;/td&gt;\\n      &lt;td&gt;2021-06-05 06:26:00&lt;/td&gt;\\n      &lt;td&gt;0&lt;/td&gt;\\n      &lt;td&gt;2.2&lt;/td&gt;\\n      &lt;td&gt;2021-06-05&lt;/td&gt;\\n      &lt;td&gt;6:26&lt;/td&gt;\\n    &lt;/tr&gt;\\n    &lt;tr&gt;\\n      &lt;th&gt;16953&lt;/th&gt;\\n      &lt;td&gt;FreeStyle Libre&lt;/td&gt;\\n      &lt;td&gt;2021-06-05 06:41:00&lt;/td&gt;\\n      &lt;td&gt;0&lt;/td&gt;\\n      &lt;td&gt;2.2&lt;/td&gt;\\n      &lt;td&gt;2021-06-05&lt;/td&gt;\\n      &lt;td&gt;6:41&lt;/td&gt;\\n    &lt;/tr&gt;\\n    &lt;tr&gt;\\n      &lt;th&gt;16954&lt;/th&gt;\\n      &lt;td&gt;FreeStyle Libre&lt;/td&gt;\\n      &lt;td&gt;2021-06-05 06:56:00&lt;/td&gt;\\n      &lt;td&gt;0&lt;/td&gt;\\n      &lt;td&gt;2.3&lt;/td&gt;\\n      &lt;td&gt;2021-06-05&lt;/td&gt;\\n      &lt;td&gt;6:56&lt;/td&gt;\\n    &lt;/tr&gt;\\n    &lt;tr&gt;\\n      &lt;th&gt;16955&lt;/th&gt;\\n      &lt;td&gt;FreeStyle Libre&lt;/td&gt;\\n      &lt;td&gt;2021-06-05 07:11:00&lt;/td&gt;\\n      &lt;td&gt;0&lt;/td&gt;\\n      &lt;td&gt;2.7&lt;/td&gt;\\n      &lt;td&gt;2021-06-05&lt;/td&gt;\\n      &lt;td&gt;7:11&lt;/td&gt;\\n    &lt;/tr&gt;\\n    &lt;tr&gt;\\n      &lt;th&gt;16956&lt;/th&gt;\\n      &lt;td&gt;FreeStyle Libre&lt;/td&gt;\\n      &lt;td&gt;2021-06-05 07:26:00&lt;/td&gt;\\n      &lt;td&gt;0&lt;/td&gt;\\n      &lt;td&gt;2.9&lt;/td&gt;\\n      &lt;td&gt;2021-06-05&lt;/td&gt;\\n      &lt;td&gt;7:26&lt;/td&gt;\\n    &lt;/tr&gt;\\n    &lt;tr&gt;\\n      &lt;th&gt;16957&lt;/th&gt;\\n      &lt;td&gt;FreeStyle Libre&lt;/td&gt;\\n      &lt;td&gt;2021-06-05 07:41:00&lt;/td&gt;\\n      &lt;td&gt;0&lt;/td&gt;\\n      &lt;td&gt;3.1&lt;/td&gt;\\n      &lt;td&gt;2021-06-05&lt;/td&gt;\\n      &lt;td&gt;7:41&lt;/td&gt;\\n    &lt;/tr&gt;\\n    &lt;tr&gt;\\n      &lt;th&gt;18236&lt;/th&gt;\\n      &lt;td&gt;FreeStyle Libre&lt;/td&gt;\\n      &lt;td&gt;2021-06-05 07:42:00&lt;/td&gt;\\n      &lt;td&gt;1&lt;/td&gt;\\n      &lt;td&gt;3.1&lt;/td&gt;\\n      &lt;td&gt;2021-06-05&lt;/td&gt;\\n      &lt;td&gt;7:42&lt;/td&gt;\\n    &lt;/tr&gt;\\n    &lt;tr&gt;\\n      &lt;th&gt;16958&lt;/th&gt;\\n      &lt;td&gt;FreeStyle Libre&lt;/td&gt;\\n      &lt;td&gt;2021-06-05 07:55:00&lt;/td&gt;\\n      &lt;td&gt;0&lt;/td&gt;\\n      &lt;td&gt;3.6&lt;/td&gt;\\n      &lt;td&gt;2021-06-05&lt;/td&gt;\\n      &lt;td&gt;7:55&lt;/td&gt;\\n    &lt;/tr&gt;\\n    &lt;tr&gt;\\n      &lt;th&gt;18237&lt;/th&gt;\\n      &lt;td&gt;FreeStyle Libre&lt;/td&gt;\\n      &lt;td&gt;2021-06-05 08:01:00&lt;/td&gt;\\n      &lt;td&gt;1&lt;/td&gt;\\n      &lt;td&gt;3.7&lt;/td&gt;\\n      &lt;td&gt;2021-06-05&lt;/td&gt;\\n      &lt;td&gt;8:01&lt;/td&gt;\\n    &lt;/tr&gt;\\n    &lt;tr&gt;\\n      &lt;th&gt;16959&lt;/th&gt;\\n      &lt;td&gt;FreeStyle Libre&lt;/td&gt;\\n      &lt;td&gt;2021-06-05 08:10:00&lt;/td&gt;\\n      &lt;td&gt;0&lt;/td&gt;\\n      &lt;td&gt;6.6&lt;/td&gt;\\n      &lt;td&gt;2021-06-05&lt;/td&gt;\\n      &lt;td&gt;8:10&lt;/td&gt;\\n    &lt;/tr&gt;\\n    &lt;tr&gt;\\n      &lt;th&gt;16960&lt;/th&gt;\\n      &lt;td&gt;FreeStyle Libre&lt;/td&gt;\\n      &lt;td&gt;2021-06-05 08:25:00&lt;/td&gt;\\n      &lt;td&gt;0&lt;/td&gt;\\n      &lt;td&gt;10.1&lt;/td&gt;\\n      &lt;td&gt;2021-06-05&lt;/td&gt;\\n      &lt;td&gt;8:25&lt;/td&gt;\\n    &lt;/tr&gt;\\n    &lt;tr&gt;\\n      &lt;th&gt;16961&lt;/th&gt;\\n      &lt;td&gt;FreeStyle Libre&lt;/td&gt;\\n      &lt;td&gt;2021-06-05 08:40:00&lt;/td&gt;\\n      &lt;td&gt;0&lt;/td&gt;\\n      &lt;td&gt;12.1&lt;/td&gt;\\n      &lt;td&gt;2021-06-05&lt;/td&gt;\\n      &lt;td&gt;8:40&lt;/td&gt;\\n    &lt;/tr&gt;\\n    &lt;tr&gt;\\n      &lt;th&gt;16962&lt;/th&gt;\\n      &lt;td&gt;FreeStyle Libre&lt;/td&gt;\\n      &lt;td&gt;2021-06-05 08:55:00&lt;/td&gt;\\n      &lt;td&gt;0&lt;/td&gt;\\n      &lt;td&gt;11.8&lt;/td&gt;\\n      &lt;td&gt;2021-06-05&lt;/td&gt;\\n      &lt;td&gt;8:55&lt;/td&gt;\\n    &lt;/tr&gt;\\n    &lt;tr&gt;\\n      &lt;th&gt;16963&lt;/th&gt;\\n      &lt;td&gt;FreeStyle Libre&lt;/td&gt;\\n      &lt;td&gt;2021-06-05 09:10:00&lt;/td&gt;\\n      &lt;td&gt;0&lt;/td&gt;\\n      &lt;td&gt;10.9&lt;/td&gt;\\n      &lt;td&gt;2021-06-05&lt;/td&gt;\\n      &lt;td&gt;9:10&lt;/td&gt;\\n    &lt;/tr&gt;\\n    &lt;tr&gt;\\n      &lt;th&gt;16964&lt;/th&gt;\\n      &lt;td&gt;FreeStyle Libre&lt;/td&gt;\\n      &lt;td&gt;2021-06-05 09:26:00&lt;/td&gt;\\n      &lt;td&gt;0&lt;/td&gt;\\n      &lt;td&gt;10.1&lt;/td&gt;\\n      &lt;td&gt;2021-06-05&lt;/td&gt;\\n      &lt;td&gt;9:26&lt;/td&gt;\\n    &lt;/tr&gt;\\n    &lt;tr&gt;\\n      &lt;th&gt;18238&lt;/th&gt;\\n      &lt;td&gt;FreeStyle Libre&lt;/td&gt;\\n      &lt;td&gt;2021-06-05 09:33:00&lt;/td&gt;\\n      &lt;td&gt;1&lt;/td&gt;\\n      &lt;td&gt;9.9&lt;/td&gt;\\n      &lt;td&gt;2021-06-05&lt;/td&gt;\\n      &lt;td&gt;9:33&lt;/td&gt;\\n    &lt;/tr&gt;\\n    &lt;tr&gt;\\n      &lt;th&gt;16965&lt;/th&gt;\\n      &lt;td&gt;FreeStyle Libre&lt;/td&gt;\\n      &lt;td&gt;2021-06-05 09:41:00&lt;/td&gt;\\n      &lt;td&gt;0&lt;/td&gt;\\n      &lt;td&gt;9.9&lt;/td&gt;\\n      &lt;td&gt;2021-06-05&lt;/td&gt;\\n      &lt;td&gt;9:41&lt;/td&gt;\\n    &lt;/tr&gt;\\n    &lt;tr&gt;\\n      &lt;th&gt;16966&lt;/th&gt;\\n      &lt;td&gt;FreeStyle Libre&lt;/td&gt;\\n      &lt;td&gt;2021-06-05 09:56:00&lt;/td&gt;\\n      &lt;td&gt;0&lt;/td&gt;\\n      &lt;td&gt;11.3&lt;/td&gt;\\n      &lt;td&gt;2021-06-05&lt;/td&gt;\\n      &lt;td&gt;9:56&lt;/td&gt;\\n    &lt;/tr&gt;\\n    &lt;tr&gt;\\n      &lt;th&gt;16967&lt;/th&gt;\\n      &lt;td&gt;FreeStyle Libre&lt;/td&gt;\\n      &lt;td&gt;2021-06-05 10:11:00&lt;/td&gt;\\n      &lt;td&gt;0&lt;/td&gt;\\n      &lt;td&gt;13.4&lt;/td&gt;\\n      &lt;td&gt;2021-06-05&lt;/td&gt;\\n      &lt;td&gt;10:11&lt;/td&gt;\\n    &lt;/tr&gt;\\n    &lt;tr&gt;\\n      &lt;th&gt;16968&lt;/th&gt;\\n      &lt;td&gt;FreeStyle Libre&lt;/td&gt;\\n      &lt;td&gt;2021-06-05 10:26:00&lt;/td&gt;\\n      &lt;td&gt;0&lt;/td&gt;\\n      &lt;td&gt;14.8&lt;/td&gt;\\n      &lt;td&gt;2021-06-05&lt;/td&gt;\\n      &lt;td&gt;10:26&lt;/td&gt;\\n    &lt;/tr&gt;\\n    &lt;tr&gt;\\n      &lt;th&gt;16969&lt;/th&gt;\\n      &lt;td&gt;FreeStyle Libre&lt;/td&gt;\\n      &lt;td&gt;2021-06-05 10:41:00&lt;/td&gt;\\n      &lt;td&gt;0&lt;/td&gt;\\n      &lt;td&gt;15.5&lt;/td&gt;\\n      &lt;td&gt;2021-06-05&lt;/td&gt;\\n      &lt;td&gt;10:41&lt;/td&gt;\\n    &lt;/tr&gt;\\n    &lt;tr&gt;\\n      &lt;th&gt;16970&lt;/th&gt;\\n      &lt;td&gt;FreeStyle Libre&lt;/td&gt;\\n      &lt;td&gt;2021-06-05 10:56:00&lt;/td&gt;\\n      &lt;td&gt;0&lt;/td&gt;\\n      &lt;td&gt;15.8&lt;/td&gt;\\n      &lt;td&gt;2021-06-05&lt;/td&gt;\\n      &lt;td&gt;10:56&lt;/td&gt;\\n    &lt;/tr&gt;\\n    &lt;tr&gt;\\n      &lt;th&gt;16971&lt;/th&gt;\\n      &lt;td&gt;FreeStyle Libre&lt;/td&gt;\\n      &lt;td&gt;2021-06-05 11:11:00&lt;/td&gt;\\n      &lt;td&gt;0&lt;/td&gt;\\n      &lt;td&gt;15.7&lt;/td&gt;\\n      &lt;td&gt;2021-06-05&lt;/td&gt;\\n      &lt;td&gt;11:11&lt;/td&gt;\\n    &lt;/tr&gt;\\n    &lt;tr&gt;\\n      &lt;th&gt;16972&lt;/th&gt;\\n      &lt;td&gt;FreeStyle Libre&lt;/td&gt;\\n      &lt;td&gt;2021-06-05 11:26:00&lt;/td&gt;\\n      &lt;td&gt;0&lt;/td&gt;\\n      &lt;td&gt;15.1&lt;/td&gt;\\n      &lt;td&gt;2021-06-05&lt;/td&gt;\\n      &lt;td&gt;11:26&lt;/td&gt;\\n    &lt;/tr&gt;\\n    &lt;tr&gt;\\n      &lt;th&gt;16973&lt;/th&gt;\\n      &lt;td&gt;FreeStyle Libre&lt;/td&gt;\\n      &lt;td&gt;2021-06-05 11:41:00&lt;/td&gt;\\n      &lt;td&gt;0&lt;/td&gt;\\n      &lt;td&gt;14.6&lt;/td&gt;\\n      &lt;td&gt;2021-06-05&lt;/td&gt;\\n      &lt;td&gt;11:41&lt;/td&gt;\\n    &lt;/tr&gt;\\n    &lt;tr&gt;\\n      &lt;th&gt;16974&lt;/th&gt;\\n      &lt;td&gt;FreeStyle Libre&lt;/td&gt;\\n      &lt;td&gt;2021-06-05 11:56:00&lt;/td&gt;\\n      &lt;td&gt;0&lt;/td&gt;\\n      &lt;td&gt;14.1&lt;/td&gt;\\n      &lt;td&gt;2021-06-05&lt;/td&gt;\\n      &lt;td&gt;11:56&lt;/td&gt;\\n    &lt;/tr&gt;\\n    &lt;tr&gt;\\n      &lt;th&gt;16975&lt;/th&gt;\\n      &lt;td&gt;FreeStyle Libre&lt;/td&gt;\\n      &lt;td&gt;2021-06-05 12:11:00&lt;/td&gt;\\n      &lt;td&gt;0&lt;/td&gt;\\n      &lt;td&gt;13.2&lt;/td&gt;\\n      &lt;td&gt;2021-06-05&lt;/td&gt;\\n      &lt;td&gt;12:11&lt;/td&gt;\\n    &lt;/tr&gt;\\n    &lt;tr&gt;\\n      &lt;th&gt;16976&lt;/th&gt;\\n      &lt;td&gt;FreeStyle Libre&lt;/td&gt;\\n      &lt;td&gt;2021-06-05 12:25:00&lt;/td&gt;\\n      &lt;td&gt;0&lt;/td&gt;\\n      &lt;td&gt;12.3&lt;/td&gt;\\n      &lt;td&gt;2021-06-05&lt;/td&gt;\\n      &lt;td&gt;12:25&lt;/td&gt;\\n    &lt;/tr&gt;\\n    &lt;tr&gt;\\n      &lt;th&gt;18239&lt;/th&gt;\\n      &lt;td&gt;FreeStyle Libre&lt;/td&gt;\\n      &lt;td&gt;2021-06-05 12:38:00&lt;/td&gt;\\n      &lt;td&gt;1&lt;/td&gt;\\n      &lt;td&gt;12.6&lt;/td&gt;\\n      &lt;td&gt;2021-06-05&lt;/td&gt;\\n      &lt;td&gt;12:38&lt;/td&gt;\\n    &lt;/tr&gt;\\n    &lt;tr&gt;\\n      &lt;th&gt;16977&lt;/th&gt;\\n      &lt;td&gt;FreeStyle Libre&lt;/td&gt;\\n      &lt;td&gt;2021-06-05 12:40:00&lt;/td&gt;\\n      &lt;td&gt;0&lt;/td&gt;\\n      &lt;td&gt;10.6&lt;/td&gt;\\n      &lt;td&gt;2021-06-05&lt;/td&gt;\\n      &lt;td&gt;12:40&lt;/td&gt;\\n    &lt;/tr&gt;\\n    &lt;tr&gt;\\n      &lt;th&gt;16978&lt;/th&gt;\\n      &lt;td&gt;FreeStyle Libre&lt;/td&gt;\\n      &lt;td&gt;2021-06-05 12:55:00&lt;/td&gt;\\n      &lt;td&gt;0&lt;/td&gt;\\n      &lt;td&gt;8.8&lt;/td&gt;\\n      &lt;td&gt;2021-06-05&lt;/td&gt;\\n      &lt;td&gt;12:55&lt;/td&gt;\\n    &lt;/tr&gt;\\n    &lt;tr&gt;\\n      &lt;th&gt;16979&lt;/th&gt;\\n      &lt;td&gt;FreeStyle Libre&lt;/td&gt;\\n      &lt;td&gt;2021-06-05 13:10:00&lt;/td&gt;\\n      &lt;td&gt;0&lt;/td&gt;\\n      &lt;td&gt;6.8&lt;/td&gt;\\n      &lt;td&gt;2021-06-05&lt;/td&gt;\\n      &lt;td&gt;13:10&lt;/td&gt;\\n    &lt;/tr&gt;\\n    &lt;tr&gt;\\n      &lt;th&gt;16980&lt;/th&gt;\\n      &lt;td&gt;FreeStyle Libre&lt;/td&gt;\\n      &lt;td&gt;2021-06-05 13:25:00&lt;/td&gt;\\n      &lt;td&gt;0&lt;/td&gt;\\n      &lt;td&gt;4.5&lt;/td&gt;\\n      &lt;td&gt;2021-06-05&lt;/td&gt;\\n      &lt;td&gt;13:25&lt;/td&gt;\\n    &lt;/tr&gt;\\n    &lt;tr&gt;\\n      &lt;th&gt;18240&lt;/th&gt;\\n      &lt;td&gt;FreeStyle Libre&lt;/td&gt;\\n      &lt;td&gt;2021-06-05 13:29:00&lt;/td&gt;\\n      &lt;td&gt;1&lt;/td&gt;\\n      &lt;td&gt;4.3&lt;/td&gt;\\n      &lt;td&gt;2021-06-05&lt;/td&gt;\\n      &lt;td&gt;13:29&lt;/td&gt;\\n    &lt;/tr&gt;\\n    &lt;tr&gt;\\n      &lt;th&gt;16981&lt;/th&gt;\\n      &lt;td&gt;FreeStyle Libre&lt;/td&gt;\\n      &lt;td&gt;2021-06-05 13:40:00&lt;/td&gt;\\n      &lt;td&gt;0&lt;/td&gt;\\n      &lt;td&gt;3.7&lt;/td&gt;\\n      &lt;td&gt;2021-06-05&lt;/td&gt;\\n      &lt;td&gt;13:40&lt;/td&gt;\\n    &lt;/tr&gt;\\n    &lt;tr&gt;\\n      &lt;th&gt;16982&lt;/th&gt;\\n      &lt;td&gt;FreeStyle Libre&lt;/td&gt;\\n      &lt;td&gt;2021-06-05 13:55:00&lt;/td&gt;\\n      &lt;td&gt;0&lt;/td&gt;\\n      &lt;td&gt;3.4&lt;/td&gt;\\n      &lt;td&gt;2021-06-05&lt;/td&gt;\\n      &lt;td&gt;13:55&lt;/td&gt;\\n    &lt;/tr&gt;\\n    &lt;tr&gt;\\n      &lt;th&gt;16983&lt;/th&gt;\\n      &lt;td&gt;FreeStyle Libre&lt;/td&gt;\\n      &lt;td&gt;2021-06-05 14:10:00&lt;/td&gt;\\n      &lt;td&gt;0&lt;/td&gt;\\n      &lt;td&gt;3.2&lt;/td&gt;\\n      &lt;td&gt;2021-06-05&lt;/td&gt;\\n      &lt;td&gt;14:10&lt;/td&gt;\\n    &lt;/tr&gt;\\n    &lt;tr&gt;\\n      &lt;th&gt;18241&lt;/th&gt;\\n      &lt;td&gt;FreeStyle Libre&lt;/td&gt;\\n      &lt;td&gt;2021-06-05 14:13:00&lt;/td&gt;\\n      &lt;td&gt;1&lt;/td&gt;\\n      &lt;td&gt;3.0&lt;/td&gt;\\n      &lt;td&gt;2021-06-05&lt;/td&gt;\\n      &lt;td&gt;14:13&lt;/td&gt;\\n    &lt;/tr&gt;\\n    &lt;tr&gt;\\n      &lt;th&gt;16984&lt;/th&gt;\\n      &lt;td&gt;FreeStyle Libre&lt;/td&gt;\\n      &lt;td&gt;2021-06-05 14:25:00&lt;/td&gt;\\n      &lt;td&gt;0&lt;/td&gt;\\n      &lt;td&gt;2.7&lt;/td&gt;\\n      &lt;td&gt;2021-06-05&lt;/td&gt;\\n      &lt;td&gt;14:25&lt;/td&gt;\\n    &lt;/tr&gt;\\n    &lt;tr&gt;\\n      &lt;th&gt;16985&lt;/th&gt;\\n      &lt;td&gt;FreeStyle Libre&lt;/td&gt;\\n      &lt;td&gt;2021-06-05 14:40:00&lt;/td&gt;\\n      &lt;td&gt;0&lt;/td&gt;\\n      &lt;td&gt;2.3&lt;/td&gt;\\n      &lt;td&gt;2021-06-05&lt;/td&gt;\\n      &lt;td&gt;14:40&lt;/td&gt;\\n    &lt;/tr&gt;\\n    &lt;tr&gt;\\n      &lt;th&gt;16986&lt;/th&gt;\\n      &lt;td&gt;FreeStyle Libre&lt;/td&gt;\\n      &lt;td&gt;2021-06-05 14:55:00&lt;/td&gt;\\n      &lt;td&gt;0&lt;/td&gt;\\n      &lt;td&gt;2.3&lt;/td&gt;\\n      &lt;td&gt;2021-06-05&lt;/td&gt;\\n      &lt;td&gt;14:55&lt;/td&gt;\\n    &lt;/tr&gt;\\n    &lt;tr&gt;\\n      &lt;th&gt;18242&lt;/th&gt;\\n      &lt;td&gt;FreeStyle Libre&lt;/td&gt;\\n      &lt;td&gt;2021-06-05 15:07:00&lt;/td&gt;\\n      &lt;td&gt;1&lt;/td&gt;\\n      &lt;td&gt;3.1&lt;/td&gt;\\n      &lt;td&gt;2021-06-05&lt;/td&gt;\\n      &lt;td&gt;15:07&lt;/td&gt;\\n    &lt;/tr&gt;\\n    &lt;tr&gt;\\n      &lt;th&gt;16987&lt;/th&gt;\\n      &lt;td&gt;FreeStyle Libre&lt;/td&gt;\\n      &lt;td&gt;2021-06-05 15:10:00&lt;/td&gt;\\n      &lt;td&gt;0&lt;/td&gt;\\n      &lt;td&gt;4.9&lt;/td&gt;\\n      &lt;td&gt;2021-06-05&lt;/td&gt;\\n      &lt;td&gt;15:10&lt;/td&gt;\\n    &lt;/tr&gt;\\n    &lt;tr&gt;\\n      &lt;th&gt;16988&lt;/th&gt;\\n      &lt;td&gt;FreeStyle Libre&lt;/td&gt;\\n      &lt;td&gt;2021-06-05 15:25:00&lt;/td&gt;\\n      &lt;td&gt;0&lt;/td&gt;\\n      &lt;td&gt;7.7&lt;/td&gt;\\n      &lt;td&gt;2021-06-05&lt;/td&gt;\\n      &lt;td&gt;15:25&lt;/td&gt;\\n    &lt;/tr&gt;\\n    &lt;tr&gt;\\n      &lt;th&gt;16989&lt;/th&gt;\\n      &lt;td&gt;FreeStyle Libre&lt;/td&gt;\\n      &lt;td&gt;2021-06-05 15:40:00&lt;/td&gt;\\n      &lt;td&gt;0&lt;/td&gt;\\n      &lt;td&gt;7.1&lt;/td&gt;\\n      &lt;td&gt;2021-06-05&lt;/td&gt;\\n      &lt;td&gt;15:40&lt;/td&gt;\\n    &lt;/tr&gt;\\n    &lt;tr&gt;\\n      &lt;th&gt;18243&lt;/th&gt;\\n      &lt;td&gt;FreeStyle Libre&lt;/td&gt;\\n      &lt;td&gt;2021-06-05 15:51:00&lt;/td&gt;\\n      &lt;td&gt;1&lt;/td&gt;\\n      &lt;td&gt;6.2&lt;/td&gt;\\n      &lt;td&gt;2021-06-05&lt;/td&gt;\\n      &lt;td&gt;15:51&lt;/td&gt;\\n    &lt;/tr&gt;\\n    &lt;tr&gt;\\n      &lt;th&gt;16990&lt;/th&gt;\\n      &lt;td&gt;FreeStyle Libre&lt;/td&gt;\\n      &lt;td&gt;2021-06-05 15:55:00&lt;/td&gt;\\n      &lt;td&gt;0&lt;/td&gt;\\n      &lt;td&gt;5.3&lt;/td&gt;\\n      &lt;td&gt;2021-06-05&lt;/td&gt;\\n      &lt;td&gt;15:55&lt;/td&gt;\\n    &lt;/tr&gt;\\n    &lt;tr&gt;\\n      &lt;th&gt;16991&lt;/th&gt;\\n      &lt;td&gt;FreeStyle Libre&lt;/td&gt;\\n      &lt;td&gt;2021-06-05 16:10:00&lt;/td&gt;\\n      &lt;td&gt;0&lt;/td&gt;\\n      &lt;td&gt;4.8&lt;/td&gt;\\n      &lt;td&gt;2021-06-05&lt;/td&gt;\\n      &lt;td&gt;16:10&lt;/td&gt;\\n    &lt;/tr&gt;\\n    &lt;tr&gt;\\n      &lt;th&gt;16992&lt;/th&gt;\\n      &lt;td&gt;FreeStyle Libre&lt;/td&gt;\\n      &lt;td&gt;2021-06-05 16:25:00&lt;/td&gt;\\n      &lt;td&gt;0&lt;/td&gt;\\n      &lt;td&gt;5.6&lt;/td&gt;\\n      &lt;td&gt;2021-06-05&lt;/td&gt;\\n      &lt;td&gt;16:25&lt;/td&gt;\\n    &lt;/tr&gt;\\n    &lt;tr&gt;\\n      &lt;th&gt;16993&lt;/th&gt;\\n      &lt;td&gt;FreeStyle Libre&lt;/td&gt;\\n      &lt;td&gt;2021-06-05 16:40:00&lt;/td&gt;\\n      &lt;td&gt;0&lt;/td&gt;\\n      &lt;td&gt;7.8&lt;/td&gt;\\n      &lt;td&gt;2021-06-05&lt;/td&gt;\\n      &lt;td&gt;16:40&lt;/td&gt;\\n    &lt;/tr&gt;\\n    &lt;tr&gt;\\n      &lt;th&gt;16994&lt;/th&gt;\\n      &lt;td&gt;FreeStyle Libre&lt;/td&gt;\\n      &lt;td&gt;2021-06-05 16:55:00&lt;/td&gt;\\n      &lt;td&gt;0&lt;/td&gt;\\n      &lt;td&gt;9.6&lt;/td&gt;\\n      &lt;td&gt;2021-06-05&lt;/td&gt;\\n      &lt;td&gt;16:55&lt;/td&gt;\\n    &lt;/tr&gt;\\n    &lt;tr&gt;\\n      &lt;th&gt;16995&lt;/th&gt;\\n      &lt;td&gt;FreeStyle Libre&lt;/td&gt;\\n      &lt;td&gt;2021-06-05 17:10:00&lt;/td&gt;\\n      &lt;td&gt;0&lt;/td&gt;\\n      &lt;td&gt;9.8&lt;/td&gt;\\n      &lt;td&gt;2021-06-05&lt;/td&gt;\\n      &lt;td&gt;17:10&lt;/td&gt;\\n    &lt;/tr&gt;\\n    &lt;tr&gt;\\n      &lt;th&gt;18244&lt;/th&gt;\\n      &lt;td&gt;FreeStyle Libre&lt;/td&gt;\\n      &lt;td&gt;2021-06-05 17:28:00&lt;/td&gt;\\n      &lt;td&gt;1&lt;/td&gt;\\n      &lt;td&gt;9.5&lt;/td&gt;\\n      &lt;td&gt;2021-06-05&lt;/td&gt;\\n      &lt;td&gt;17:28&lt;/td&gt;\\n    &lt;/tr&gt;\\n  &lt;/tbody&gt;\\n&lt;/table&gt;\"},\"id\":\"3508\",\"type\":\"panel.models.markup.HTML\"},{\"attributes\":{\"children\":[{\"id\":\"3502\"}],\"margin\":[0,0,0,0],\"name\":\"Row09882\",\"sizing_mode\":\"stretch_width\"},\"id\":\"3501\",\"type\":\"Row\"},{\"attributes\":{\"client_comm_id\":\"b25affe786ff412c838244ec5ff76a6a\",\"comm_id\":\"1054800c478c49008c44c990eccecf18\",\"plot_id\":\"3501\"},\"id\":\"3509\",\"type\":\"panel.models.comm_manager.CommManager\"},{\"attributes\":{\"children\":[{\"id\":\"3503\"},{\"id\":\"3507\"}],\"margin\":[0,0,0,0],\"name\":\"Column09881\",\"sizing_mode\":\"stretch_width\"},\"id\":\"3502\",\"type\":\"Column\"},{\"attributes\":{\"children\":[{\"id\":\"3504\"},{\"id\":\"3506\"}],\"margin\":[0,0,0,0],\"name\":\"Row09880\",\"sizing_mode\":\"stretch_width\"},\"id\":\"3503\",\"type\":\"Row\"}],\"root_ids\":[\"3501\",\"3509\"]},\"title\":\"Bokeh Application\",\"version\":\"2.4.2\"}};\n",
       "    var render_items = [{\"docid\":\"a0dac79e-16ad-43f0-ab5a-fc1cd2e58004\",\"root_ids\":[\"3501\"],\"roots\":{\"3501\":\"14b22dd2-178f-49d7-ae4f-6c42f4ab9813\"}}];\n",
       "    root.Bokeh.embed.embed_items_notebook(docs_json, render_items);\n",
       "  }\n",
       "  if (root.Bokeh !== undefined && root.Bokeh.Panel !== undefined && ( root['Tabulator'] !== undefined)) {\n",
       "    embed_document(root);\n",
       "  } else {\n",
       "    var attempts = 0;\n",
       "    var timer = setInterval(function(root) {\n",
       "      if (root.Bokeh !== undefined && root.Bokeh.Panel !== undefined && (root['Tabulator'] !== undefined)) {\n",
       "        clearInterval(timer);\n",
       "        embed_document(root);\n",
       "      } else if (document.readyState == \"complete\") {\n",
       "        attempts++;\n",
       "        if (attempts > 200) {\n",
       "          clearInterval(timer);\n",
       "          console.log(\"Bokeh: ERROR: Unable to run BokehJS code because BokehJS library is missing\");\n",
       "        }\n",
       "      }\n",
       "    }, 25, root)\n",
       "  }\n",
       "})(window);</script>"
      ],
      "text/plain": [
       "<hvplot.interactive.Interactive at 0x7fc115b2fa30>"
      ]
     },
     "execution_count": 140,
     "metadata": {
      "application/vnd.holoviews_exec.v0+json": {
       "id": "3501"
      }
     },
     "output_type": "execute_result"
    }
   ],
   "source": [
    "glucose_pipeline"
   ]
  },
  {
   "cell_type": "code",
   "execution_count": 143,
   "id": "8e161535-3bb5-4825-a6cb-8f339aa9b9f1",
   "metadata": {},
   "outputs": [
    {
     "data": {},
     "metadata": {},
     "output_type": "display_data"
    },
    {
     "data": {},
     "metadata": {},
     "output_type": "display_data"
    },
    {
     "data": {
      "application/vnd.holoviews_exec.v0+json": "",
      "text/html": [
       "<div id='4432'>\n",
       "\n",
       "\n",
       "\n",
       "\n",
       "\n",
       "  <div class=\"bk-root\" id=\"f6d13fca-915c-49e7-bd78-2cd20e40f38d\" data-root-id=\"4432\"></div>\n",
       "</div>\n",
       "<script type=\"application/javascript\">(function(root) {\n",
       "  function embed_document(root) {\n",
       "    var docs_json = {\"cc7beeac-0bc6-4fcb-acf6-97767db5eaf5\":{\"defs\":[{\"extends\":null,\"module\":null,\"name\":\"ReactiveHTML1\",\"overrides\":[],\"properties\":[]},{\"extends\":null,\"module\":null,\"name\":\"FlexBox1\",\"overrides\":[],\"properties\":[{\"default\":\"flex-start\",\"kind\":null,\"name\":\"align_content\"},{\"default\":\"flex-start\",\"kind\":null,\"name\":\"align_items\"},{\"default\":\"row\",\"kind\":null,\"name\":\"flex_direction\"},{\"default\":\"wrap\",\"kind\":null,\"name\":\"flex_wrap\"},{\"default\":\"flex-start\",\"kind\":null,\"name\":\"justify_content\"}]},{\"extends\":null,\"module\":null,\"name\":\"TemplateActions1\",\"overrides\":[],\"properties\":[{\"default\":0,\"kind\":null,\"name\":\"open_modal\"},{\"default\":0,\"kind\":null,\"name\":\"close_modal\"}]},{\"extends\":null,\"module\":null,\"name\":\"MaterialTemplateActions1\",\"overrides\":[],\"properties\":[{\"default\":0,\"kind\":null,\"name\":\"open_modal\"},{\"default\":0,\"kind\":null,\"name\":\"close_modal\"}]}],\"roots\":{\"references\":[{\"attributes\":{\"months\":[0,1,2,3,4,5,6,7,8,9,10,11]},\"id\":\"4504\",\"type\":\"MonthsTicker\"},{\"attributes\":{\"months\":[0,2,4,6,8,10]},\"id\":\"4505\",\"type\":\"MonthsTicker\"},{\"attributes\":{\"days\":[1,4,7,10,13,16,19,22,25,28]},\"id\":\"4501\",\"type\":\"DaysTicker\"},{\"attributes\":{\"days\":[1,15]},\"id\":\"4503\",\"type\":\"DaysTicker\"},{\"attributes\":{\"months\":[0,6]},\"id\":\"4507\",\"type\":\"MonthsTicker\"},{\"attributes\":{\"days\":[1,8,15,22]},\"id\":\"4502\",\"type\":\"DaysTicker\"},{\"attributes\":{\"end\":17.26,\"reset_end\":17.26,\"reset_start\":0.9399999999999995,\"start\":0.9399999999999995,\"tags\":[[[\"Glucose_mmol/L\",\"Glucose_mmol/L\",null]]]},\"id\":\"4440\",\"type\":\"Range1d\"},{\"attributes\":{},\"id\":\"4508\",\"type\":\"YearsTicker\"},{\"attributes\":{\"axis_label\":\"Glucose_mmol/L\",\"coordinates\":null,\"formatter\":{\"id\":\"4485\"},\"group\":null,\"major_label_policy\":{\"id\":\"4486\"},\"ticker\":{\"id\":\"4456\"}},\"id\":\"4455\",\"type\":\"LinearAxis\"},{\"attributes\":{\"months\":[0,4,8]},\"id\":\"4506\",\"type\":\"MonthsTicker\"},{\"attributes\":{\"coordinates\":null,\"data_source\":{\"id\":\"4472\"},\"glyph\":{\"id\":\"4475\"},\"group\":null,\"hover_glyph\":null,\"muted_glyph\":{\"id\":\"4477\"},\"nonselection_glyph\":{\"id\":\"4476\"},\"selection_glyph\":{\"id\":\"4480\"},\"view\":{\"id\":\"4479\"}},\"id\":\"4478\",\"type\":\"GlyphRenderer\"},{\"attributes\":{\"callback\":null,\"formatters\":{\"@{Device_Timestamp}\":\"datetime\"},\"renderers\":[{\"id\":\"4478\"}],\"tags\":[\"hv_created\"],\"tooltips\":[[\"Device_Timestamp\",\"@{Device_Timestamp}{%F %T}\"],[\"Glucose_mmol/L\",\"@{Glucose_mmol_over_L}\"]]},\"id\":\"4441\",\"type\":\"HoverTool\"},{\"attributes\":{},\"id\":\"4485\",\"type\":\"BasicTickFormatter\"},{\"attributes\":{},\"id\":\"4494\",\"type\":\"UnionRenderers\"},{\"attributes\":{\"margin\":[5,10,5,10],\"max_date\":\"2021-06-05\",\"min_date\":\"2019-08-12\",\"sizing_mode\":\"stretch_width\",\"title\":\"Date Picker\",\"value\":\"2021-06-03\"},\"id\":\"4436\",\"type\":\"DatePicker\"},{\"attributes\":{},\"id\":\"4449\",\"type\":\"LinearScale\"},{\"attributes\":{\"end\":1622764560000.0,\"reset_end\":1622764560000.0,\"reset_start\":1622679120000.0,\"start\":1622679120000.0,\"tags\":[[[\"Device_Timestamp\",\"Device_Timestamp\",null]]]},\"id\":\"4439\",\"type\":\"Range1d\"},{\"attributes\":{},\"id\":\"4447\",\"type\":\"LinearScale\"},{\"attributes\":{\"below\":[{\"id\":\"4451\"}],\"center\":[{\"id\":\"4454\"},{\"id\":\"4458\"}],\"height\":300,\"left\":[{\"id\":\"4455\"}],\"margin\":[5,5,5,5],\"min_border_bottom\":10,\"min_border_left\":10,\"min_border_right\":10,\"min_border_top\":10,\"renderers\":[{\"id\":\"4478\"}],\"sizing_mode\":\"stretch_width\",\"title\":{\"id\":\"4443\"},\"toolbar\":{\"id\":\"4465\"},\"width\":700,\"x_range\":{\"id\":\"4439\"},\"x_scale\":{\"id\":\"4447\"},\"y_range\":{\"id\":\"4440\"},\"y_scale\":{\"id\":\"4449\"}},\"id\":\"4442\",\"subtype\":\"Figure\",\"type\":\"Plot\"},{\"attributes\":{\"margin\":[5,5,5,5],\"name\":\"HSpacer11466\",\"sizing_mode\":\"stretch_width\"},\"id\":\"4437\",\"type\":\"Spacer\"},{\"attributes\":{\"coordinates\":null,\"group\":null,\"text\":\"Bradley's Glucose Levels\",\"text_color\":\"black\",\"text_font_size\":\"12pt\"},\"id\":\"4443\",\"type\":\"Title\"},{\"attributes\":{},\"id\":\"4486\",\"type\":\"AllLabels\"},{\"attributes\":{\"num_minor_ticks\":5,\"tickers\":[{\"id\":\"4497\"},{\"id\":\"4498\"},{\"id\":\"4499\"},{\"id\":\"4500\"},{\"id\":\"4501\"},{\"id\":\"4502\"},{\"id\":\"4503\"},{\"id\":\"4504\"},{\"id\":\"4505\"},{\"id\":\"4506\"},{\"id\":\"4507\"},{\"id\":\"4508\"}]},\"id\":\"4452\",\"type\":\"DatetimeTicker\"},{\"attributes\":{\"children\":[{\"id\":\"4433\"}],\"margin\":[0,0,0,0],\"name\":\"Row11469\",\"sizing_mode\":\"stretch_width\"},\"id\":\"4432\",\"type\":\"Row\"},{\"attributes\":{\"axis\":{\"id\":\"4451\"},\"coordinates\":null,\"grid_line_color\":null,\"group\":null,\"ticker\":null},\"id\":\"4454\",\"type\":\"Grid\"},{\"attributes\":{\"data\":{\"Device_Timestamp\":{\"__ndarray__\":\"AACIZvOcd0IAAEJC9Jx3QgAA/B31nHdCAAC2+fWcd0IAAHDV9px3QgAAKrH3nHdCAADkjPicd0IAAMjk+Jx3QgAAnmj5nHdCAABYRPqcd0IAAGwR+5x3QgAAXj37nHdCAAAm7fucd0IAAODI/Jx3QgAAmqT9nHdCAABUgP6cd0IAAA5c/5x3QgAAyDcAnXdCAACCEwGdd0IAADzvAZ13QgAA9soCnXdCAACwpgOdd0IAAGqCBJ13QgAAJF4FnXdCAADeOQadd0IAAJgVB513QgAAUvEHnXdCAAAMzQidd0IAAMaoCZ13QgAAgIQKnXdCAAA6YAudd0IAAPQ7DJ13QgAArhcNnXdCAAAOAg6dd0IAAOSFDp13QgAAyN0OnXdCAACCuQ+dd0IAADyVEJ13QgAA9nARnXdCAACwTBKdd0IAAFZbEp13QgAAaigTnXdCAAAkBBSdd0IAAN7fFJ13QgAAmLsVnXdCAABSlxadd0IAAAxzF513QgAAxk4YnXdCAACAKhmdd0IAADoGGp13QgAA9OEanXdCAACuvRudd0IAAGiZHJ13QgAAInUdnXdCAADcUB6dd0IAAJYsH513QgAAEr8fnXdCAABQCCCdd0IAAArkIJ13QgAAxL8hnXdCAAB+myKdd0IAADh3I513QgAA8lIknXdCAACsLiWdd0IAAMD7JZ13QgAASmImnXdCAAB61yadd0IAADSzJ513QgAA7o4onXdCAABOeSmdd0IAAOazKZ13QgAAYkYqnXdCAABGniqdd0IAABwiK513QgAA1v0rnXdCAACQ2Sydd0IAAEq1LZ13QgAAqp8unXdCAACqny6dd0IAAGR7L513QgAAHlcwnXdCAADYMjGdd0IAAJIOMp13QgAATOoynXdCAAAGxjOdd0IAABqTNJ13QgAA8BY1nXdCAADUbjWdd0IAAI5KNp13QgAA/Ag3nXdCAABIJjedd0IAAAICOJ13QgAAvN04nXdCAAB2uTmdd0IAADCVOp13QgAA6nA7nXdCAACkTDydd0IAAHrQPJ13QgAAXig9nXdCAAAYBD6dd0IAANLfPp13QgAAtjc/nXdCAACMuz+dd0IAAMoEQJ13QgAARpdAnXdCAAAAc0Gdd0IAALpOQp13QgAAdCpDnXdCAAAuBkSdd0IAAOjhRJ13Qg==\",\"dtype\":\"float64\",\"order\":\"little\",\"shape\":[110]},\"Glucose_mmol/L\":{\"__ndarray__\":\"ZmZmZmZmDkBmZmZmZmYKQGZmZmZmZgZAzczMzMzMBEBmZmZmZmYGQDMzMzMzMwdAMzMzMzMzB0AzMzMzMzMHQGZmZmZmZgZAzczMzMzMBEAzMzMzMzMDQGZmZmZmZgJAzczMzMzMBECamZmZmZkFQM3MzMzMzARAAAAAAAAACEBmZmZmZmYOQAAAAAAAABJAmpmZmZmZF0AzMzMzMzMdQM3MzMzMzB5AZmZmZmZmHkAzMzMzMzMdQJqZmZmZmR1AzczMzMzMHkBmZmZmZmYeQAAAAAAAAB5AZmZmZmZmHkDNzMzMzMwcQGZmZmZmZhxAAAAAAAAAHECamZmZmZkbQGZmZmZmZhxAMzMzMzMzHUBmZmZmZmYcQAAAAAAAAB5AMzMzMzMzIUDNzMzMzMwjQGZmZmZmZiVAMzMzMzMzJUDNzMzMzMwlQAAAAAAAACRAmpmZmZmZIkCamZmZmZkhQM3MzMzMzCBAMzMzMzMzH0CamZmZmZkZQGZmZmZmZhJAMzMzMzMzC0AzMzMzMzMHQM3MzMzMzBJAzczMzMzMGkDNzMzMzMwYQGZmZmZmZhRAMzMzMzMzFUAzMzMzMzMfQDMzMzMzMyJAMzMzMzMzJECamZmZmZkmQGZmZmZmZihAmpmZmZmZKUCamZmZmZkpQJqZmZmZmSlAmpmZmZmZKEDNzMzMzMwlQDMzMzMzMyVAMzMzMzMzIkAzMzMzMzMgQDMzMzMzMyBAZmZmZmZmIECamZmZmZkgQDMzMzMzMyBAZmZmZmZmHkAzMzMzMzMjQDMzMzMzMyhAZmZmZmZmK0CamZmZmZksQM3MzMzMzC9AZmZmZmZmLkDNzMzMzMwrQM3MzMzMzChAAAAAAAAAKEBmZmZmZmYmQGZmZmZmZiNAZmZmZmZmIEAzMzMzMzMZQM3MzMzMzBRAMzMzMzMzEUCamZmZmZkJQDMzMzMzMwdAMzMzMzMzC0AAAAAAAAAaQDMzMzMzMx1AzczMzMzMGkBmZmZmZmYYQDMzMzMzMxVAzczMzMzMEEAzMzMzMzMPQM3MzMzMzAxAZmZmZmZmCkAAAAAAAAAIQDMzMzMzMwdAMzMzMzMzB0AAAAAAAAAIQAAAAAAAAAhAZmZmZmZmCkCamZmZmZkJQM3MzMzMzAhAzczMzMzMCECamZmZmZkJQA==\",\"dtype\":\"float64\",\"order\":\"little\",\"shape\":[110]},\"Glucose_mmol_over_L\":{\"__ndarray__\":\"ZmZmZmZmDkBmZmZmZmYKQGZmZmZmZgZAzczMzMzMBEBmZmZmZmYGQDMzMzMzMwdAMzMzMzMzB0AzMzMzMzMHQGZmZmZmZgZAzczMzMzMBEAzMzMzMzMDQGZmZmZmZgJAzczMzMzMBECamZmZmZkFQM3MzMzMzARAAAAAAAAACEBmZmZmZmYOQAAAAAAAABJAmpmZmZmZF0AzMzMzMzMdQM3MzMzMzB5AZmZmZmZmHkAzMzMzMzMdQJqZmZmZmR1AzczMzMzMHkBmZmZmZmYeQAAAAAAAAB5AZmZmZmZmHkDNzMzMzMwcQGZmZmZmZhxAAAAAAAAAHECamZmZmZkbQGZmZmZmZhxAMzMzMzMzHUBmZmZmZmYcQAAAAAAAAB5AMzMzMzMzIUDNzMzMzMwjQGZmZmZmZiVAMzMzMzMzJUDNzMzMzMwlQAAAAAAAACRAmpmZmZmZIkCamZmZmZkhQM3MzMzMzCBAMzMzMzMzH0CamZmZmZkZQGZmZmZmZhJAMzMzMzMzC0AzMzMzMzMHQM3MzMzMzBJAzczMzMzMGkDNzMzMzMwYQGZmZmZmZhRAMzMzMzMzFUAzMzMzMzMfQDMzMzMzMyJAMzMzMzMzJECamZmZmZkmQGZmZmZmZihAmpmZmZmZKUCamZmZmZkpQJqZmZmZmSlAmpmZmZmZKEDNzMzMzMwlQDMzMzMzMyVAMzMzMzMzIkAzMzMzMzMgQDMzMzMzMyBAZmZmZmZmIECamZmZmZkgQDMzMzMzMyBAZmZmZmZmHkAzMzMzMzMjQDMzMzMzMyhAZmZmZmZmK0CamZmZmZksQM3MzMzMzC9AZmZmZmZmLkDNzMzMzMwrQM3MzMzMzChAAAAAAAAAKEBmZmZmZmYmQGZmZmZmZiNAZmZmZmZmIEAzMzMzMzMZQM3MzMzMzBRAMzMzMzMzEUCamZmZmZkJQDMzMzMzMwdAMzMzMzMzC0AAAAAAAAAaQDMzMzMzMx1AzczMzMzMGkBmZmZmZmYYQDMzMzMzMxVAzczMzMzMEEAzMzMzMzMPQM3MzMzMzAxAZmZmZmZmCkAAAAAAAAAIQDMzMzMzMwdAMzMzMzMzB0AAAAAAAAAIQAAAAAAAAAhAZmZmZmZmCkCamZmZmZkJQM3MzMzMzAhAzczMzMzMCECamZmZmZkJQA==\",\"dtype\":\"float64\",\"order\":\"little\",\"shape\":[110]}},\"selected\":{\"id\":\"4473\"},\"selection_policy\":{\"id\":\"4494\"}},\"id\":\"4472\",\"type\":\"ColumnDataSource\"},{\"attributes\":{},\"id\":\"4482\",\"type\":\"DatetimeTickFormatter\"},{\"attributes\":{\"children\":[{\"id\":\"4434\"},{\"id\":\"4438\"}],\"margin\":[0,0,0,0],\"name\":\"Column11468\",\"sizing_mode\":\"stretch_width\"},\"id\":\"4433\",\"type\":\"Column\"},{\"attributes\":{\"axis_label\":\"Device_Timestamp\",\"coordinates\":null,\"formatter\":{\"id\":\"4482\"},\"group\":null,\"major_label_policy\":{\"id\":\"4483\"},\"ticker\":{\"id\":\"4452\"}},\"id\":\"4451\",\"type\":\"DatetimeAxis\"},{\"attributes\":{\"axis\":{\"id\":\"4455\"},\"coordinates\":null,\"dimension\":1,\"grid_line_color\":null,\"group\":null,\"ticker\":null},\"id\":\"4458\",\"type\":\"Grid\"},{\"attributes\":{\"line_color\":\"#30a2da\",\"line_width\":3,\"x\":{\"field\":\"Device_Timestamp\"},\"y\":{\"field\":\"Glucose_mmol/L\"}},\"id\":\"4475\",\"type\":\"Line\"},{\"attributes\":{},\"id\":\"4460\",\"type\":\"PanTool\"},{\"attributes\":{},\"id\":\"4483\",\"type\":\"AllLabels\"},{\"attributes\":{},\"id\":\"4456\",\"type\":\"BasicTicker\"},{\"attributes\":{},\"id\":\"4461\",\"type\":\"WheelZoomTool\"},{\"attributes\":{},\"id\":\"4473\",\"type\":\"Selection\"},{\"attributes\":{},\"id\":\"4459\",\"type\":\"SaveTool\"},{\"attributes\":{\"children\":[{\"id\":\"4442\"}],\"margin\":[0,0,0,0],\"name\":\"Row11363\",\"sizing_mode\":\"stretch_width\"},\"id\":\"4438\",\"type\":\"Row\"},{\"attributes\":{\"overlay\":{\"id\":\"4464\"}},\"id\":\"4462\",\"type\":\"BoxZoomTool\"},{\"attributes\":{\"children\":[{\"id\":\"4436\"}],\"margin\":[0,0,0,0],\"name\":\"Column11358\",\"sizing_mode\":\"stretch_width\"},\"id\":\"4435\",\"type\":\"Column\"},{\"attributes\":{\"line_alpha\":0.1,\"line_color\":\"#30a2da\",\"line_width\":3,\"x\":{\"field\":\"Device_Timestamp\"},\"y\":{\"field\":\"Glucose_mmol/L\"}},\"id\":\"4476\",\"type\":\"Line\"},{\"attributes\":{},\"id\":\"4463\",\"type\":\"ResetTool\"},{\"attributes\":{\"line_alpha\":0.2,\"line_color\":\"#30a2da\",\"line_width\":3,\"x\":{\"field\":\"Device_Timestamp\"},\"y\":{\"field\":\"Glucose_mmol/L\"}},\"id\":\"4477\",\"type\":\"Line\"},{\"attributes\":{\"bottom_units\":\"screen\",\"coordinates\":null,\"fill_alpha\":0.5,\"fill_color\":\"lightgrey\",\"group\":null,\"left_units\":\"screen\",\"level\":\"overlay\",\"line_alpha\":1.0,\"line_color\":\"black\",\"line_dash\":[4,4],\"line_width\":2,\"right_units\":\"screen\",\"syncable\":false,\"top_units\":\"screen\"},\"id\":\"4464\",\"type\":\"BoxAnnotation\"},{\"attributes\":{\"client_comm_id\":\"fa7b4ead8784471abff860ce53e57c2d\",\"comm_id\":\"f7f0672c7c2640f992f42c5103be63a8\",\"plot_id\":\"4432\"},\"id\":\"4597\",\"type\":\"panel.models.comm_manager.CommManager\"},{\"attributes\":{\"source\":{\"id\":\"4472\"}},\"id\":\"4479\",\"type\":\"CDSView\"},{\"attributes\":{\"tools\":[{\"id\":\"4441\"},{\"id\":\"4459\"},{\"id\":\"4460\"},{\"id\":\"4461\"},{\"id\":\"4462\"},{\"id\":\"4463\"}]},\"id\":\"4465\",\"type\":\"Toolbar\"},{\"attributes\":{\"mantissas\":[1,2,5],\"max_interval\":500.0,\"num_minor_ticks\":0},\"id\":\"4497\",\"type\":\"AdaptiveTicker\"},{\"attributes\":{\"line_color\":\"#30a2da\",\"line_width\":3,\"x\":{\"field\":\"Device_Timestamp\"},\"y\":{\"field\":\"Glucose_mmol/L\"}},\"id\":\"4480\",\"type\":\"Line\"},{\"attributes\":{\"children\":[{\"id\":\"4435\"},{\"id\":\"4437\"}],\"margin\":[0,0,0,0],\"name\":\"Row11467\",\"sizing_mode\":\"stretch_width\"},\"id\":\"4434\",\"type\":\"Row\"},{\"attributes\":{\"base\":60,\"mantissas\":[1,2,5,10,15,20,30],\"max_interval\":1800000.0,\"min_interval\":1000.0,\"num_minor_ticks\":0},\"id\":\"4498\",\"type\":\"AdaptiveTicker\"},{\"attributes\":{\"days\":[1,2,3,4,5,6,7,8,9,10,11,12,13,14,15,16,17,18,19,20,21,22,23,24,25,26,27,28,29,30,31]},\"id\":\"4500\",\"type\":\"DaysTicker\"},{\"attributes\":{\"base\":24,\"mantissas\":[1,2,4,6,8,12],\"max_interval\":43200000.0,\"min_interval\":3600000.0,\"num_minor_ticks\":0},\"id\":\"4499\",\"type\":\"AdaptiveTicker\"}],\"root_ids\":[\"4432\",\"4597\"]},\"title\":\"Bokeh Application\",\"version\":\"2.4.2\"}};\n",
       "    var render_items = [{\"docid\":\"cc7beeac-0bc6-4fcb-acf6-97767db5eaf5\",\"root_ids\":[\"4432\"],\"roots\":{\"4432\":\"f6d13fca-915c-49e7-bd78-2cd20e40f38d\"}}];\n",
       "    root.Bokeh.embed.embed_items_notebook(docs_json, render_items);\n",
       "  }\n",
       "  if (root.Bokeh !== undefined && root.Bokeh.Panel !== undefined && ( root['Tabulator'] !== undefined)) {\n",
       "    embed_document(root);\n",
       "  } else {\n",
       "    var attempts = 0;\n",
       "    var timer = setInterval(function(root) {\n",
       "      if (root.Bokeh !== undefined && root.Bokeh.Panel !== undefined && (root['Tabulator'] !== undefined)) {\n",
       "        clearInterval(timer);\n",
       "        embed_document(root);\n",
       "      } else if (document.readyState == \"complete\") {\n",
       "        attempts++;\n",
       "        if (attempts > 200) {\n",
       "          clearInterval(timer);\n",
       "          console.log(\"Bokeh: ERROR: Unable to run BokehJS code because BokehJS library is missing\");\n",
       "        }\n",
       "      }\n",
       "    }, 25, root)\n",
       "  }\n",
       "})(window);</script>"
      ],
      "text/plain": [
       "<hvplot.interactive.Interactive at 0x7fc1152ea430>"
      ]
     },
     "execution_count": 143,
     "metadata": {
      "application/vnd.holoviews_exec.v0+json": {
       "id": "4432"
      }
     },
     "output_type": "execute_result"
    }
   ],
   "source": [
    "glucose_plot = glucose_pipeline.hvplot(x='Device_Timestamp', y='Glucose_mmol/L', kind='line', line_width=3, title = 'Bradley\\'s Glucose Levels')\n",
    "glucose_plot"
   ]
  },
  {
   "cell_type": "code",
   "execution_count": null,
   "id": "b686f580-6f54-43dd-9568-0c07651274f2",
   "metadata": {},
   "outputs": [],
   "source": []
  }
 ],
 "metadata": {
  "kernelspec": {
   "display_name": "Python 3 (ipykernel)",
   "language": "python",
   "name": "python3"
  },
  "language_info": {
   "codemirror_mode": {
    "name": "ipython",
    "version": 3
   },
   "file_extension": ".py",
   "mimetype": "text/x-python",
   "name": "python",
   "nbconvert_exporter": "python",
   "pygments_lexer": "ipython3",
   "version": "3.8.2"
  }
 },
 "nbformat": 4,
 "nbformat_minor": 5
}
